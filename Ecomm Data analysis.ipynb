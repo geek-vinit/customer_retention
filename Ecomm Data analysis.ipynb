{
 "cells": [
  {
   "cell_type": "markdown",
   "metadata": {},
   "source": [
    "# Task : Analyze the E-retail factors for customer activation and retention"
   ]
  },
  {
   "cell_type": "code",
   "execution_count": null,
   "metadata": {},
   "outputs": [],
   "source": [
    "import numpy as np\n",
    "import pandas as pd\n",
    "import matplotlib.pyplot as plt\n",
    "%matplotlib inline\n",
    "import seaborn as sns\n",
    "import warnings\n",
    "warnings.filterwarnings('ignore')"
   ]
  },
  {
   "cell_type": "code",
   "execution_count": null,
   "metadata": {},
   "outputs": [],
   "source": [
    "ecomm_data= pd.read_excel('customer_retention_dataset.xlsx')"
   ]
  },
  {
   "cell_type": "code",
   "execution_count": null,
   "metadata": {},
   "outputs": [],
   "source": [
    "ecomm_data.shape"
   ]
  },
  {
   "cell_type": "code",
   "execution_count": null,
   "metadata": {},
   "outputs": [],
   "source": [
    "ecomm_data.columns.values"
   ]
  },
  {
   "cell_type": "code",
   "execution_count": null,
   "metadata": {},
   "outputs": [],
   "source": [
    "ecomm_data.dtypes"
   ]
  },
  {
   "cell_type": "code",
   "execution_count": null,
   "metadata": {},
   "outputs": [],
   "source": [
    "#Selecting relevant columns for EDA\n",
    "df1 = ecomm_data.iloc[:, 0:17]\n",
    "#df1.drop(['Pin code'], axis=1)"
   ]
  },
  {
   "cell_type": "code",
   "execution_count": null,
   "metadata": {},
   "outputs": [],
   "source": [
    "#check for any null value exist\n",
    "df1.isnull().sum()"
   ]
  },
  {
   "cell_type": "code",
   "execution_count": null,
   "metadata": {},
   "outputs": [],
   "source": [
    "#check for data types\n",
    "df1.dtypes"
   ]
  },
  {
   "cell_type": "code",
   "execution_count": null,
   "metadata": {},
   "outputs": [],
   "source": [
    "df1.columns = ['Gender','Age','city','Pin code','Tenure','No. Online purchases','Internet access','Device','screen size',\n",
    "               'operating system (OS)' ,'browser','Channel for first visit','Visit to Eretail','Exploration time', \n",
    "               'preferred payment Option','Type of Churning',  'Why did you abandon the bag']\n"
   ]
  },
  {
   "cell_type": "code",
   "execution_count": null,
   "metadata": {},
   "outputs": [],
   "source": [
    "#Checkimg the counts of different types of purchase abondoned once added in cart.\n",
    "df1['Type of Churning'].value_counts().plot(kind='bar',figsize=(10,6))\n",
    "plt.xlabel(\"Type of churning\", labelpad=20)\n",
    "plt.ylabel(\"Churner count\", labelpad=20)\n",
    "plt.title(\"Count of customers abandon the puruchase after adding product in the cart\", y=1);"
   ]
  },
  {
   "cell_type": "markdown",
   "metadata": {},
   "source": [
    "Churn Data is not equally distributed. Need to be balance using up sampling or down sampling, before creating MAchine learning algorithm. Here if we consider \n",
    "Total abondoned orders due to any reason = 171+35+15 = 221\n",
    "Never abondoned orders = 48 only\n",
    "\n",
    "Highly Imbalance data"
   ]
  },
  {
   "cell_type": "code",
   "execution_count": null,
   "metadata": {},
   "outputs": [],
   "source": [
    "df1['Type of Churning'].value_counts()"
   ]
  },
  {
   "cell_type": "code",
   "execution_count": null,
   "metadata": {},
   "outputs": [],
   "source": [
    "#Checking percentage distribution for abondned orders\n",
    "100*df1['Type of Churning'].value_counts()/len(df1['Type of Churning'])"
   ]
  },
  {
   "cell_type": "code",
   "execution_count": null,
   "metadata": {},
   "outputs": [],
   "source": [
    "#Checking the how long this cutomers are engaged with e-retail website\n",
    "df1['Tenure'].value_counts()"
   ]
  },
  {
   "cell_type": "markdown",
   "metadata": {},
   "source": [
    "### In order to predict which factor is more vulnerable to cancel the order once added in cart, we are considering Type of churn colun as dependant varibal and rest columns as independant features"
   ]
  },
  {
   "cell_type": "markdown",
   "metadata": {},
   "source": [
    "# Univariate Analysis for every type of cart abonden scenario"
   ]
  },
  {
   "cell_type": "code",
   "execution_count": null,
   "metadata": {},
   "outputs": [],
   "source": [
    "sns.set_theme(style=\"whitegrid\")\n",
    "\n",
    "#Plotting countplot for every column against every feature in dataset. For same reason, droppping the below two columns.\n",
    "for i, predictor in enumerate(df1.drop(columns=['Type of Churning','Pin code'])):\n",
    "    plt.figure(figsize=(15,8))\n",
    "    plt.figure(i)\n",
    "    sns.countplot(data=df1, x=predictor, hue='Type of Churning')"
   ]
  },
  {
   "cell_type": "markdown",
   "metadata": {},
   "source": [
    "# Univariate Analysis for cart ever abondoned or not"
   ]
  },
  {
   "cell_type": "code",
   "execution_count": null,
   "metadata": {},
   "outputs": [],
   "source": [
    "#Converting the abondoned orders column into binary.\n",
    "df1['Churn'] = np.where(df1['Type of Churning'] == 'Never',0,1)"
   ]
  },
  {
   "cell_type": "code",
   "execution_count": null,
   "metadata": {},
   "outputs": [],
   "source": [
    "sns.set_theme(style=\"whitegrid\")\n",
    "\n",
    "\n",
    "for i, predictor in enumerate(df1.drop(columns=['Churn','Pin code'])):\n",
    "    plt.figure(figsize=(15,8))\n",
    "    plt.figure(i)\n",
    "    sns.countplot(data=df1, x=predictor, hue='Churn')"
   ]
  },
  {
   "cell_type": "markdown",
   "metadata": {},
   "source": [
    "### Coverting the categorical data into binary data"
   ]
  },
  {
   "cell_type": "code",
   "execution_count": null,
   "metadata": {},
   "outputs": [],
   "source": [
    "df1 = df1.drop(['city','Type of Churning'], axis = 1)\n",
    "df1_dummies = pd.get_dummies(df1)\n",
    "df1_dummies.head()"
   ]
  },
  {
   "cell_type": "code",
   "execution_count": null,
   "metadata": {},
   "outputs": [],
   "source": [
    "#Finding correlation between various factors\n",
    "\n",
    "plt.figure(figsize=(25,8))\n",
    "df1_dummies.corr()['Churn'].sort_values(ascending = False).plot(kind='bar')"
   ]
  },
  {
   "cell_type": "code",
   "execution_count": null,
   "metadata": {},
   "outputs": [],
   "source": [
    "plt.figure(figsize=(8,8))\n",
    "sns.heatmap(df1_dummies.corr(), cmap=\"Paired\")"
   ]
  },
  {
   "cell_type": "code",
   "execution_count": null,
   "metadata": {},
   "outputs": [],
   "source": [
    "#Creating function for multivariant analysis\n",
    "\n",
    "df1_target0=df1.loc[df1[\"Churn\"]==0]\n",
    "df1_target1=df1.loc[df1[\"Churn\"]==1]\n",
    "\n",
    "\n",
    "\n",
    "def uniplot(df,col,title,hue =None):\n",
    "    \n",
    "    sns.set_style('whitegrid')\n",
    "    sns.set_context('talk')\n",
    "    plt.rcParams[\"axes.labelsize\"] = 20\n",
    "    plt.rcParams['axes.titlesize'] = 22\n",
    "    plt.rcParams['axes.titlepad'] = 30\n",
    "    \n",
    "    \n",
    "    temp = pd.Series(data = hue)\n",
    "    fig, ax = plt.subplots()\n",
    "    width = len(df[col].unique()) + 7 + 4*len(temp.unique())\n",
    "    fig.set_size_inches(width , 8)\n",
    "    plt.xticks(rotation=45)\n",
    "    plt.yscale('log')\n",
    "    plt.title(title)\n",
    "    ax = sns.countplot(data = df, x= col, order=df[col].value_counts().index,hue = hue,palette='bright') \n",
    "        \n",
    "    plt.show()"
   ]
  },
  {
   "cell_type": "code",
   "execution_count": null,
   "metadata": {},
   "outputs": [],
   "source": [
    "uniplot(df1_target1,col='Age',title='Distribution of Gender & Age for Churned Customers',hue='Gender')"
   ]
  },
  {
   "cell_type": "code",
   "execution_count": null,
   "metadata": {},
   "outputs": [],
   "source": [
    "uniplot(df1_target0,col='Age',title='Distribution of Gender & Age for non churning Customers',hue='Gender')"
   ]
  },
  {
   "cell_type": "code",
   "execution_count": null,
   "metadata": {},
   "outputs": [],
   "source": [
    "uniplot(df1_target1,col='Tenure',title='Distribution of Gender & Age for Churned Customers',hue='Gender')"
   ]
  },
  {
   "cell_type": "code",
   "execution_count": null,
   "metadata": {},
   "outputs": [],
   "source": [
    "uniplot(df1_target0,col='Tenure',title='Distribution of Gender & Age for non churning Customers',hue='Gender')"
   ]
  },
  {
   "cell_type": "code",
   "execution_count": null,
   "metadata": {},
   "outputs": [],
   "source": [
    "uniplot(df1_target1,col='Age',title='Distribution of Gender & Age for non churning Customers',hue='Device')"
   ]
  },
  {
   "cell_type": "markdown",
   "metadata": {},
   "source": [
    "Findings from Univariate analysis:\n",
    "\n",
    "1.Females are more  'frequently' abondened  the orders once added in cart; comparing to male.\n",
    "\n",
    "2.Females are more  'sometimes' abondened  the orders once added in cart;comparing to male.\n",
    "\n",
    "3.'frequently' abondened  the orders once added in cart is more at Banglore.\n",
    "\n",
    "4.'Never' abondened the orders once added in cart is more at delhi.\n",
    "\n",
    "5.Customers with less than 10 orders are more likely to 'Never' abondoned the orders\n",
    "\n",
    "6.customers using mobile data to access the Ecommerce platform are more likey to abonden the order\n",
    "\n",
    "7.Smartphone used for order placing is most vulnerable to cancel the order.\n",
    "\n",
    "8.Orders placed via application has more number of abondonce.\n",
    "\n",
    "9.Exploration time more than 15min, leading to more frequently abondone orders.\n",
    "\n",
    "10.Better alternativer offer is biggest reason to cancel the orders."
   ]
  }
 ],
 "metadata": {
  "kernelspec": {
   "display_name": "Python 3",
   "language": "python",
   "name": "python3"
  },
  "language_info": {
   "codemirror_mode": {
    "name": "ipython",
    "version": 3
   },
   "file_extension": ".py",
   "mimetype": "text/x-python",
   "name": "python",
   "nbconvert_exporter": "python",
   "pygments_lexer": "ipython3",
   "version": "3.6.5"
  }
 },
 "nbformat": 4,
 "nbformat_minor": 2
}
